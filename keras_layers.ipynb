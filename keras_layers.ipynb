{
  "nbformat": 4,
  "nbformat_minor": 0,
  "metadata": {
    "colab": {
      "name": "keras_layers",
      "provenance": []
    },
    "kernelspec": {
      "name": "python3",
      "display_name": "Python 3"
    },
    "language_info": {
      "name": "python"
    }
  },
  "cells": [
    {
      "cell_type": "code",
      "metadata": {
        "colab": {
          "base_uri": "https://localhost:8080/"
        },
        "id": "jj99RrMF6Xld",
        "outputId": "638c7141-ab49-4a96-cb33-a8d659eede3d"
      },
      "source": [
        "!pip install tflearn "
      ],
      "execution_count": 3,
      "outputs": [
        {
          "output_type": "stream",
          "text": [
            "Collecting tflearn\n",
            "  Downloading tflearn-0.5.0.tar.gz (107 kB)\n",
            "\u001b[?25l\r\u001b[K     |███                             | 10 kB 22.6 MB/s eta 0:00:01\r\u001b[K     |██████                          | 20 kB 26.8 MB/s eta 0:00:01\r\u001b[K     |█████████▏                      | 30 kB 31.9 MB/s eta 0:00:01\r\u001b[K     |████████████▏                   | 40 kB 23.9 MB/s eta 0:00:01\r\u001b[K     |███████████████▎                | 51 kB 19.8 MB/s eta 0:00:01\r\u001b[K     |██████████████████▎             | 61 kB 14.6 MB/s eta 0:00:01\r\u001b[K     |█████████████████████▍          | 71 kB 13.2 MB/s eta 0:00:01\r\u001b[K     |████████████████████████▍       | 81 kB 14.4 MB/s eta 0:00:01\r\u001b[K     |███████████████████████████▌    | 92 kB 14.7 MB/s eta 0:00:01\r\u001b[K     |██████████████████████████████▌ | 102 kB 12.8 MB/s eta 0:00:01\r\u001b[K     |████████████████████████████████| 107 kB 12.8 MB/s \n",
            "\u001b[?25hRequirement already satisfied: numpy in /usr/local/lib/python3.7/dist-packages (from tflearn) (1.19.5)\n",
            "Requirement already satisfied: six in /usr/local/lib/python3.7/dist-packages (from tflearn) (1.15.0)\n",
            "Requirement already satisfied: Pillow in /usr/local/lib/python3.7/dist-packages (from tflearn) (7.1.2)\n",
            "Building wheels for collected packages: tflearn\n",
            "  Building wheel for tflearn (setup.py) ... \u001b[?25l\u001b[?25hdone\n",
            "  Created wheel for tflearn: filename=tflearn-0.5.0-py3-none-any.whl size=127299 sha256=0a9b94252ea2c058165af54ef3273d80be85f4744747458e821877b87f6fa762\n",
            "  Stored in directory: /root/.cache/pip/wheels/5f/14/2e/1d8e28cc47a5a931a2fb82438c9e37ef9246cc6a3774520271\n",
            "Successfully built tflearn\n",
            "Installing collected packages: tflearn\n",
            "Successfully installed tflearn-0.5.0\n"
          ],
          "name": "stdout"
        }
      ]
    },
    {
      "cell_type": "code",
      "metadata": {
        "colab": {
          "base_uri": "https://localhost:8080/"
        },
        "id": "G4dxyNq24Pdn",
        "outputId": "68c04cb3-a602-4e0e-c718-cfe9433b26fb"
      },
      "source": [
        "import keras\n",
        "from keras.models import Sequential\n",
        "from keras.layers import Dense, Activation, Dropout, Flatten, Conv2D, MaxPooling2D\n",
        "from keras.layers.normalization import BatchNormalization\n",
        "import numpy as np\n",
        "np.random.seed(2000)\n",
        "\n",
        "# (2) Get Data\n",
        "import tflearn.datasets.oxflower17 as oxflower17\n",
        "x, y = oxflower17.load_data(one_hot=True)\n",
        "\n",
        "model = Sequential()\n",
        "model.add(Conv2D(filters= 64 , kernel_size=(3 ,3 ) , input_shape = (224,224,3) , padding=\"same\" , activation = 'relu'))\n",
        "model.add(Conv2D(filters= 64 , kernel_size=(3 ,3 ) ,  padding=\"same\" , activation = 'relu'))\n",
        "model.add(MaxPooling2D(pool_size=(2,2) , strides=(2,2)))\n",
        "model.add(Conv2D(filters= 128 , kernel_size=(3 ,3 ) ,  padding=\"same\" , activation = 'relu'))\n",
        "model.add(Conv2D(filters= 128 , kernel_size=(3 ,3 ) ,  padding=\"same\" , activation = 'relu'))\n",
        "model.add(MaxPooling2D(pool_size=(2,2) , strides=(2,2)))\n",
        "model.add(Conv2D(filters= 256 , kernel_size=(3 ,3 ) ,  padding=\"same\" , activation = 'relu'))\n",
        "model.add(Conv2D(filters= 256 , kernel_size=(3 ,3 ) ,  padding=\"same\" , activation = 'relu'))\n",
        "model.add(MaxPooling2D(pool_size=(2,2) , strides=(2,2))) \n",
        "model.add(Conv2D(filters= 64 , kernel_size=(3 ,3 ) ,  padding=\"same\" , activation = 'relu'))\n",
        "model.add(MaxPooling2D(pool_size=(2,2) , strides=(2,2)))\n",
        "# dense \n",
        "model.add(Flatten())\n",
        "model.add(Dense(units=256 , activation='relu'))\n",
        "model.add(Dense(units = 256 , activation='relu' ))\n",
        "model.add(Dense(units = 64 , activation='relu' ))\n",
        "model.add(Dense(units = 5 , activation='softmax' ))\n",
        "model.summary()"
      ],
      "execution_count": 5,
      "outputs": [
        {
          "output_type": "stream",
          "text": [
            "Model: \"sequential_1\"\n",
            "_________________________________________________________________\n",
            "Layer (type)                 Output Shape              Param #   \n",
            "=================================================================\n",
            "conv2d_7 (Conv2D)            (None, 224, 224, 64)      1792      \n",
            "_________________________________________________________________\n",
            "conv2d_8 (Conv2D)            (None, 224, 224, 64)      36928     \n",
            "_________________________________________________________________\n",
            "max_pooling2d_4 (MaxPooling2 (None, 112, 112, 64)      0         \n",
            "_________________________________________________________________\n",
            "conv2d_9 (Conv2D)            (None, 112, 112, 128)     73856     \n",
            "_________________________________________________________________\n",
            "conv2d_10 (Conv2D)           (None, 112, 112, 128)     147584    \n",
            "_________________________________________________________________\n",
            "max_pooling2d_5 (MaxPooling2 (None, 56, 56, 128)       0         \n",
            "_________________________________________________________________\n",
            "conv2d_11 (Conv2D)           (None, 56, 56, 256)       295168    \n",
            "_________________________________________________________________\n",
            "conv2d_12 (Conv2D)           (None, 56, 56, 256)       590080    \n",
            "_________________________________________________________________\n",
            "max_pooling2d_6 (MaxPooling2 (None, 28, 28, 256)       0         \n",
            "_________________________________________________________________\n",
            "conv2d_13 (Conv2D)           (None, 28, 28, 64)        147520    \n",
            "_________________________________________________________________\n",
            "max_pooling2d_7 (MaxPooling2 (None, 14, 14, 64)        0         \n",
            "_________________________________________________________________\n",
            "flatten_1 (Flatten)          (None, 12544)             0         \n",
            "_________________________________________________________________\n",
            "dense_4 (Dense)              (None, 256)               3211520   \n",
            "_________________________________________________________________\n",
            "dense_5 (Dense)              (None, 256)               65792     \n",
            "_________________________________________________________________\n",
            "dense_6 (Dense)              (None, 64)                16448     \n",
            "_________________________________________________________________\n",
            "dense_7 (Dense)              (None, 5)                 325       \n",
            "=================================================================\n",
            "Total params: 4,587,013\n",
            "Trainable params: 4,587,013\n",
            "Non-trainable params: 0\n",
            "_________________________________________________________________\n"
          ],
          "name": "stdout"
        }
      ]
    },
    {
      "cell_type": "code",
      "metadata": {
        "id": "Tw69_3Fg5RVA"
      },
      "source": [
        ""
      ],
      "execution_count": null,
      "outputs": []
    }
  ]
}